{
 "cells": [
  {
   "cell_type": "markdown",
   "metadata": {
    "deletable": true,
    "editable": true
   },
   "source": [
    "# 0. ライブラリのインポート他"
   ]
  },
  {
   "cell_type": "code",
   "execution_count": 1,
   "metadata": {
    "collapsed": false,
    "deletable": true,
    "editable": true
   },
   "outputs": [
    {
     "name": "stderr",
     "output_type": "stream",
     "text": [
      "Using TensorFlow backend.\n",
      "/Users/Pikachu/.pyenv/versions/3.4.3/lib/python3.4/site-packages/sklearn/cross_validation.py:44: DeprecationWarning: This module was deprecated in version 0.18 in favor of the model_selection module into which all the refactored classes and functions are moved. Also note that the interface of the new CV iterators are different from that of this module. This module will be removed in 0.20.\n",
      "  \"This module will be removed in 0.20.\", DeprecationWarning)\n"
     ]
    }
   ],
   "source": [
    "%matplotlib inline\n",
    "import matplotlib.pyplot as plt\n",
    "from keras.layers import Input, Dense, Embedding, merge, Convolution2D, MaxPooling2D, Dropout\n",
    "from sklearn.cross_validation import train_test_split\n",
    "from keras.layers.core import Reshape, Flatten\n",
    "from keras.callbacks import ModelCheckpoint\n",
    "from keras.optimizers import Adam\n",
    "from keras.models import Model\n",
    "from keras.preprocessing import sequence\n",
    "import tensorflow as tf\n",
    "import numpy as np\n",
    "import pandas as pd\n",
    "from sklearn.utils import shuffle\n",
    "from sklearn.cluster import KMeans\n",
    "from sklearn.neighbors import KNeighborsClassifier\n",
    "import random as rd\n",
    "import time\n",
    "import os\n",
    "from gensim.models.word2vec import Word2Vec\n",
    "import MeCab\n",
    "import subprocess\n",
    "import itertools\n",
    "import string"
   ]
  },
  {
   "cell_type": "markdown",
   "metadata": {
    "deletable": true,
    "editable": true
   },
   "source": [
    "# 1. データ読み込み"
   ]
  },
  {
   "cell_type": "code",
   "execution_count": 2,
   "metadata": {
    "collapsed": true
   },
   "outputs": [],
   "source": [
    "#\n",
    "#ここで各ファイルのパスを設定します。\n",
    "#\n",
    "\n",
    "#学習に用いるデータ\n",
    "csv_file_path = \"../input/hoge.csv\"\n",
    "\n",
    "#word2vecのモデル\n",
    "model_path=\"../input/word2vec.gensim.model\"\n",
    "\n",
    "#辞書\n",
    "dic_path=\"/usr/local/lib/mecab/dic/mecab-ipadic-neologd\""
   ]
  },
  {
   "cell_type": "code",
   "execution_count": 3,
   "metadata": {
    "collapsed": true,
    "deletable": true,
    "editable": true
   },
   "outputs": [],
   "source": [
    "Data = pd.read_csv(csv_file_path)\n",
    "model = Word2Vec.load(model_path)\n",
    "tagger = MeCab.Tagger(\"-Ochasen -d {0}\".format(dic_path))"
   ]
  },
  {
   "cell_type": "markdown",
   "metadata": {
    "collapsed": true,
    "deletable": true,
    "editable": true
   },
   "source": [
    "# 2. 分散表現の取得\n",
    "### word2vecでpre-train"
   ]
  },
  {
   "cell_type": "markdown",
   "metadata": {
    "deletable": true,
    "editable": true
   },
   "source": [
    "## 2-1. 分かち書き"
   ]
  },
  {
   "cell_type": "code",
   "execution_count": 9,
   "metadata": {
    "collapsed": true,
    "deletable": true,
    "editable": true
   },
   "outputs": [],
   "source": [
    "def _tokenize(text):\n",
    "    sentence = []\n",
    "    node = tagger.parse(text)\n",
    "    #print node\n",
    "    node = node.split(\"\\n\")\n",
    "    for i in range(len(node)):\n",
    "        feature = node[i].split(\"\\t\")\n",
    "        if feature[0] == \"EOS\":\n",
    "            break\n",
    "        hinshi = feature[3].split(\"-\")[0]\n",
    "        if \"名詞\" in hinshi:\n",
    "            sentence.append(feature[2].decode('utf-8'))\n",
    "        elif \"形容詞\" in hinshi:\n",
    "            sentence.append(feature[2].decode('utf-8'))\n",
    "        elif \"動詞\" in hinshi:\n",
    "            sentence.append(feature[2].decode('utf-8'))\n",
    "        elif \"形容動詞\" in hinshi:\n",
    "            sentence.append(feature[2].decode('utf-8'))\n",
    "        elif \"連体詞\" in hinshi:\n",
    "            sentence.append(feature[2].decode('utf-8'))\n",
    "        elif \"助詞\" in hinshi:\n",
    "            sentence.append(feature[2].decode('utf-8'))\n",
    "    return sentence"
   ]
  },
  {
   "cell_type": "markdown",
   "metadata": {
    "deletable": true,
    "editable": true
   },
   "source": [
    "## 2-2. word2vec"
   ]
  },
  {
   "cell_type": "code",
   "execution_count": 9,
   "metadata": {
    "collapsed": true,
    "deletable": true,
    "editable": true
   },
   "outputs": [],
   "source": [
    "def getVector(text):\n",
    "    texts = _tokenize(text)\n",
    "    v = []\n",
    "    for t in texts:\n",
    "        if t in model.wv:\n",
    "            if v == []:\n",
    "                v = model.wv[t]\n",
    "            else:\n",
    "                v = np.vstack((v,model.wv[t]))\n",
    "    if v != []:\n",
    "        return v\n",
    "    else:\n",
    "        print text\n",
    "        return np.array([])"
   ]
  },
  {
   "cell_type": "code",
   "execution_count": 81,
   "metadata": {
    "collapsed": false,
    "deletable": true,
    "editable": true
   },
   "outputs": [
    {
     "name": "stderr",
     "output_type": "stream",
     "text": [
      "/Users/Pikachu/.pyenv/versions/2.7.9/lib/python2.7/site-packages/ipykernel/__main__.py:6: DeprecationWarning: elementwise == comparison failed; this will raise an error in the future.\n",
      "/Users/Pikachu/.pyenv/versions/2.7.9/lib/python2.7/site-packages/ipykernel/__main__.py:10: DeprecationWarning: elementwise != comparison failed; this will raise an error in the future.\n"
     ]
    }
   ],
   "source": [
    "countWords = Data[\"x\"].apply(lambda x:getVector(x).shape[0])"
   ]
  },
  {
   "cell_type": "code",
   "execution_count": 85,
   "metadata": {
    "collapsed": false,
    "deletable": true,
    "editable": true
   },
   "outputs": [
    {
     "data": {
      "text/plain": [
       "[<matplotlib.lines.Line2D at 0x1187676d0>]"
      ]
     },
     "execution_count": 85,
     "metadata": {},
     "output_type": "execute_result"
    },
    {
     "data": {
      "image/png": "[encoded data removed]",
      "text/plain": [
       "<matplotlib.figure.Figure at 0x134f7e750>"
      ]
     },
     "metadata": {},
     "output_type": "display_data"
    }
   ],
   "source": [
    "num = countWords.shape[0]\n",
    "count = countWords.copy().values\n",
    "count.sort()\n",
    "plt.axis([0,160000,0,100])\n",
    "#plt.vlines(x=num,ymin=0,ymax=100,colors='r')\n",
    "rate=0.95\n",
    "plt.ylabel(\"Number of Words in a Question\")\n",
    "plt.xlabel(\"ID of a Question sorted by the value of y\")\n",
    "plt.vlines(x=int(num*rate),ymin=0,ymax=count[int(num*rate)],colors='r')\n",
    "#plt.vlines(x=int(num*0.6),ymin=0,ymax=count[int(num*0.6)],colors='r')\n",
    "#plt.vlines(x=int(num*0.4),ymin=0,ymax=count[int(num*0.4)],colors='r')\n",
    "#plt.vlines(x=int(num*0.2),ymin=0,ymax=count[int(num*0.2)],colors='r')\n",
    "plt.hlines(y=count[int(num*rate)],xmin=0,xmax=int(num*rate),color='r')\n",
    "\n",
    "plt.plot(count)"
   ]
  },
  {
   "cell_type": "markdown",
   "metadata": {
    "deletable": true,
    "editable": true
   },
   "source": [
    "**上のグラフより、95%のQuestionは、単語数が40以下**"
   ]
  },
  {
   "cell_type": "markdown",
   "metadata": {
    "deletable": true,
    "editable": true
   },
   "source": [
    "## 2-3. 外れ値の除去"
   ]
  },
  {
   "cell_type": "code",
   "execution_count": null,
   "metadata": {
    "collapsed": true
   },
   "outputs": [],
   "source": [
    "Data = Data.drop(np.argmax(countWords))\n",
    "Data = Data.reset_index(drop=True)"
   ]
  },
  {
   "cell_type": "code",
   "execution_count": 247,
   "metadata": {
    "collapsed": true,
    "deletable": true,
    "editable": true
   },
   "outputs": [],
   "source": [
    "#responseとクラスタIDの紐付け\n",
    "mapping = pd.factorize(Data[\"y\"])\n",
    "Data[\"ID\"] = mapping[0]\n",
    "Data.to_csv(\"../input/Data0.csv\",index=False)"
   ]
  },
  {
   "cell_type": "markdown",
   "metadata": {
    "deletable": true,
    "editable": true
   },
   "source": [
    "## 2-4. Zero Padding\n",
    "* 単語数 < sequence_length => 末尾に0ベクトルを付け足して長さをsequence_lengthに統一\n",
    "* 単語数 = sequence_length => そのまま\n",
    "* 単語数 > sequence_length => 末尾から必要なだけ要素を削って長さをsequence_lengthに統一"
   ]
  },
  {
   "cell_type": "code",
   "execution_count": 2,
   "metadata": {
    "collapsed": true,
    "deletable": true,
    "editable": true
   },
   "outputs": [],
   "source": [
    "Data = pd.read_csv(\"../input/Data0.csv\")"
   ]
  },
  {
   "cell_type": "code",
   "execution_count": 8,
   "metadata": {
    "collapsed": true,
    "deletable": true,
    "editable": true
   },
   "outputs": [],
   "source": [
    "#文の長さ、型(list or np.ndarray)を気にせずdataに突っ込んでいく\n",
    "data = []\n",
    "def getJoinedVector(text):\n",
    "    global data\n",
    "    texts = _tokenize(text)\n",
    "    v = []\n",
    "    one_flg = True\n",
    "    for t in texts:\n",
    "        if t in model.wv:\n",
    "            if v == []:\n",
    "                v = model.wv[t]\n",
    "            else:\n",
    "                one_flg = False\n",
    "                v = np.vstack((v,model.wv[t]))\n",
    "    if one_flg:\n",
    "        v = v[np.newaxis,:]\n",
    "    return data.append(v)"
   ]
  },
  {
   "cell_type": "code",
   "execution_count": 9,
   "metadata": {
    "collapsed": false,
    "deletable": true,
    "editable": true,
    "scrolled": true
   },
   "outputs": [
    {
     "name": "stderr",
     "output_type": "stream",
     "text": [
      "/Users/Pikachu/.pyenv/versions/2.7.9/lib/python2.7/site-packages/ipykernel/__main__.py:35: DeprecationWarning: elementwise == comparison failed; this will raise an error in the future.\n"
     ]
    },
    {
     "data": {
      "text/plain": [
       "0         None\n",
       "1         None\n",
       "2         None\n",
       "3         None\n",
       "4         None\n",
       "5         None\n",
       "6         None\n",
       "7         None\n",
       "8         None\n",
       "9         None\n",
       "10        None\n",
       "11        None\n",
       "12        None\n",
       "13        None\n",
       "14        None\n",
       "15        None\n",
       "16        None\n",
       "17        None\n",
       "18        None\n",
       "19        None\n",
       "20        None\n",
       "21        None\n",
       "22        None\n",
       "23        None\n",
       "24        None\n",
       "25        None\n",
       "26        None\n",
       "27        None\n",
       "28        None\n",
       "29        None\n",
       "          ... \n",
       "144992    None\n",
       "144993    None\n",
       "144994    None\n",
       "144995    None\n",
       "144996    None\n",
       "144997    None\n",
       "144998    None\n",
       "144999    None\n",
       "145000    None\n",
       "145001    None\n",
       "145002    None\n",
       "145003    None\n",
       "145004    None\n",
       "145005    None\n",
       "145006    None\n",
       "145007    None\n",
       "145008    None\n",
       "145009    None\n",
       "145010    None\n",
       "145011    None\n",
       "145012    None\n",
       "145013    None\n",
       "145014    None\n",
       "145015    None\n",
       "145016    None\n",
       "145017    None\n",
       "145018    None\n",
       "145019    None\n",
       "145020    None\n",
       "145021    None\n",
       "Name: x, dtype: object"
      ]
     },
     "execution_count": 9,
     "metadata": {},
     "output_type": "execute_result"
    }
   ],
   "source": [
    "data = []\n",
    "Data[\"x\"].apply(lambda x:getJoinedVector(x))"
   ]
  },
  {
   "cell_type": "code",
   "execution_count": 11,
   "metadata": {
    "collapsed": true,
    "deletable": true,
    "editable": true
   },
   "outputs": [],
   "source": [
    "#長さをsequence_lengthに統一\n",
    "sequence_length = 40\n",
    "data = sequence.pad_sequences(data, maxlen=sequence_length, padding=\"post\", truncating=\"post\",dtype=\"float32\")"
   ]
  },
  {
   "cell_type": "code",
   "execution_count": 19,
   "metadata": {
    "collapsed": false,
    "deletable": true,
    "editable": true,
    "scrolled": false
   },
   "outputs": [
    {
     "data": {
      "text/plain": [
       "<matplotlib.collections.LineCollection at 0x10da8f790>"
      ]
     },
     "execution_count": 19,
     "metadata": {},
     "output_type": "execute_result"
    },
    {
     "data": {
      "image/png": "[encoded data removed]",
      "text/plain": [
       "<matplotlib.figure.Figure at 0x10e439fd0>"
      ]
     },
     "metadata": {},
     "output_type": "display_data"
    }
   ],
   "source": [
    "plt.title(\"Distribution of the Size of Clusters\")\n",
    "plt.plot(np.sort(Data.groupby(\"ID\")[\"x\"].count()))\n",
    "plt.hlines(y=100,xmin=0,xmax=1800,color='g')"
   ]
  },
  {
   "cell_type": "code",
   "execution_count": 14,
   "metadata": {
    "collapsed": true,
    "deletable": true,
    "editable": true
   },
   "outputs": [],
   "source": [
    "data = data.reshape(len(data),40*50)\n",
    "pd.DataFrame(data).to_csv(\"../input/Data1.csv\",index=False)"
   ]
  },
  {
   "cell_type": "markdown",
   "metadata": {
    "deletable": true,
    "editable": true
   },
   "source": [
    "## 2-5. 前処理済みデータの読み込み"
   ]
  },
  {
   "cell_type": "code",
   "execution_count": 3,
   "metadata": {
    "collapsed": false,
    "deletable": true,
    "editable": true
   },
   "outputs": [],
   "source": [
    "data = pd.read_csv(\"../input/Data1.csv\")\n",
    "Data = pd.read_csv(\"../input/Data0.csv\")"
   ]
  },
  {
   "cell_type": "code",
   "execution_count": 5,
   "metadata": {
    "collapsed": false,
    "deletable": true,
    "editable": true
   },
   "outputs": [],
   "source": [
    "data = data.values.reshape(len(data),40,50)"
   ]
  },
  {
   "cell_type": "code",
   "execution_count": 7,
   "metadata": {
    "collapsed": false,
    "deletable": true,
    "editable": true
   },
   "outputs": [
    {
     "data": {
      "text/plain": [
       "dtype('float64')"
      ]
     },
     "execution_count": 7,
     "metadata": {},
     "output_type": "execute_result"
    }
   ],
   "source": [
    "data.dtype"
   ]
  },
  {
   "cell_type": "code",
   "execution_count": 8,
   "metadata": {
    "collapsed": false,
    "deletable": true,
    "editable": true
   },
   "outputs": [],
   "source": [
    "data = data.astype(np.float32)"
   ]
  },
  {
   "cell_type": "code",
   "execution_count": null,
   "metadata": {
    "collapsed": true
   },
   "outputs": [],
   "source": [
    "#クラスタ数＝回答文のテンプレートの総数\n",
    "n_clusters = Data[\"y\"].nunique()\n",
    "clusterID = np.arange(n_clusters)"
   ]
  },
  {
   "cell_type": "code",
   "execution_count": 10,
   "metadata": {
    "collapsed": true,
    "deletable": true,
    "editable": true
   },
   "outputs": [],
   "source": [
    "#trainとtestでclassが均等になるようにsplit\n",
    "rd.seed(42)\n",
    "train_index = []\n",
    "for i in clusterID:\n",
    "    num = Data[Data[\"ID\"]==i][\"ID\"].count()\n",
    "    k = num//2\n",
    "    train_index.extend(rd.sample(Data[Data[\"ID\"]==i].index,k))"
   ]
  },
  {
   "cell_type": "code",
   "execution_count": 11,
   "metadata": {
    "collapsed": true,
    "deletable": true,
    "editable": true
   },
   "outputs": [],
   "source": [
    "train_X = data[train_index][:,:,:,np.newaxis]\n",
    "train_y = Data[\"ID\"].values[train_index]\n",
    "test_X = np.delete(data,train_index,0)[:,:,:,np.newaxis]\n",
    "test_y = np.delete(Data[\"ID\"].values,train_index,0)"
   ]
  },
  {
   "cell_type": "markdown",
   "metadata": {
    "deletable": true,
    "editable": true
   },
   "source": [
    "# 3. モデルの実装"
   ]
  },
  {
   "cell_type": "code",
   "execution_count": 15,
   "metadata": {
    "collapsed": true,
    "deletable": true,
    "editable": true
   },
   "outputs": [],
   "source": [
    "#総データ数\n",
    "m_trains = Data.shape[0]\n",
    "#窓の幅\n",
    "filter_sizes = [3,5,7]\n",
    "#分散表現の次元\n",
    "vector_length = 50\n",
    "sequence_length = 40\n",
    "num_filters = 16\n",
    "nb_epoch = 1\n",
    "batch_size = len(train_X)\n",
    "#centroidsの初期化\n",
    "np.random.seed(42)\n",
    "output_dim=50\n",
    "centroids = np.random.rand(n_clusters,output_dim)"
   ]
  },
  {
   "cell_type": "code",
   "execution_count": 17,
   "metadata": {
    "collapsed": false,
    "deletable": true,
    "editable": true
   },
   "outputs": [],
   "source": [
    "#CNNの設計\n",
    "inputs = Input(shape=(sequence_length,vector_length,1), dtype='float32')\n",
    "#embedding = Embedding(output_dim=embedding_dim, input_dim=vocabulary_size, input_length=sequence_length)(inputs)\n",
    "#reshape = Reshape((sequence_length,embedding_dim,1))(embedding)\n",
    "conv_0 = Convolution2D(num_filters, filter_sizes[0], vector_length, border_mode='valid', init='normal', activation='relu', dim_ordering='tf')(inputs)\n",
    "conv_1 = Convolution2D(num_filters, filter_sizes[1], vector_length, border_mode='valid', init='normal', activation='relu', dim_ordering='tf')(inputs)\n",
    "conv_2 = Convolution2D(num_filters, filter_sizes[2], vector_length, border_mode='valid', init='normal', activation='relu', dim_ordering='tf')(inputs)\n",
    "\n",
    "maxpool_0 = MaxPooling2D(pool_size=(sequence_length - filter_sizes[0] + 1, 1), strides=(1,1), border_mode='valid', dim_ordering='tf')(conv_0)\n",
    "maxpool_1 = MaxPooling2D(pool_size=(sequence_length - filter_sizes[1] + 1, 1), strides=(1,1), border_mode='valid', dim_ordering='tf')(conv_1)\n",
    "maxpool_2 = MaxPooling2D(pool_size=(sequence_length - filter_sizes[2] + 1, 1), strides=(1,1), border_mode='valid', dim_ordering='tf')(conv_2)\n",
    "\n",
    "merged_tensor = merge([maxpool_0, maxpool_1, maxpool_2], mode='concat', concat_axis=1)\n",
    "flatten = Flatten()(merged_tensor)\n",
    "output = Dense(output_dim=output_dim, activation='linear', init='uniform')(flatten)\n",
    "model = Model(input=inputs, output=output)\n",
    "#checkpoint = ModelCheckpoint('weights.{epoch:03d}-{val_acc:.4f}.hdf5', monitor='val_acc', verbose=1, save_best_only=True, mode='auto')\n",
    "adam = Adam(lr=1e-4, beta_1=0.9, beta_2=0.999, epsilon=1e-08)"
   ]
  },
  {
   "cell_type": "markdown",
   "metadata": {
    "deletable": true,
    "editable": true
   },
   "source": [
    "#### 教師ありデータの選び方\n",
    "* 全クラスタから各k個ずつ"
   ]
  },
  {
   "cell_type": "code",
   "execution_count": 18,
   "metadata": {
    "collapsed": false,
    "deletable": true,
    "editable": true,
    "scrolled": true
   },
   "outputs": [],
   "source": [
    "#全クラスタから各k個ずつ選んで、supervisionとして学習に用いる\n",
    "#教師ありデータのtrain_Xのindex : supervised\n",
    "k=1\n",
    "supervised = []\n",
    "#毎回同じサンプルを抽出、ラベル付け\n",
    "rd.seed(42)\n",
    "for i in range(n_clusters):\n",
    "    supervised.extend(rd.sample(np.arange(len(train_X))[train_y==i],k))\n",
    "Sup = pd.DataFrame({\"train_index\":supervised,\"label\":train_y[supervised]})\n",
    "#r,label2idの初期化\n",
    "r = np.array([rd.sample(clusterID,1)[0] for i in range(len(train_X))])\n",
    "label2id = {i:i for i in clusterID}\n",
    "#グローバル変数\n",
    "sup_cent = []\n",
    "Data.ix[supervised,\"ID\"].apply(lambda x:sup_cent.append(list(centroids[label2id[x]])))\n",
    "delta = 0\n",
    "alpha = 0.01\n",
    "l = 1.0"
   ]
  },
  {
   "cell_type": "markdown",
   "metadata": {
    "deletable": true,
    "editable": true
   },
   "source": [
    "## Objective function\n",
    "$The\\; objective\\; function\\; is\\; defined\\; as:$\n",
    "\n",
    "$\\quad J_{semi} = \\alpha􏰁􏰁\\sum_{n=1}^N \\sum_{k=1}^K r_{nk}∥f(s_n)−\\mu_k∥^2 \\\\\n",
    "\\quad\\quad\\quad+(1−α)􏰁\\sum_{n=1}^L \\{∥f(s_n)−\\mu_{g_n}∥^2+\\sum_{j\\not=g_n}^{} [l+∥f(s_n)−μ_{g_n}∥^2 −∥f(s_n)−μ_j∥^2]_+\\}$\n",
    "\n",
    "$\\quad\\quad where\\; L\\; is\\; the\\; number\\; of\\; the\\; labeled\\; data$\n",
    "\n",
    "$\\quad\\quad\\quad\\quad N\\; is\\; the\\; number\\; of\\; the\\; data$\n",
    "\n",
    "$\\quad\\quad\\quad\\quad K\\; is\\; the\\; number\\; of\\; the\\; clusters$"
   ]
  },
  {
   "cell_type": "code",
   "execution_count": 19,
   "metadata": {
    "collapsed": true,
    "deletable": true,
    "editable": true
   },
   "outputs": [],
   "source": [
    "#目的関数の定義\n",
    "def _cost(true_y,pred_y):\n",
    "    global centroids,r,sup_pred,supervised,label2id,Data,sup_cent,alpha,l\n",
    "    supervision = tf.constant(supervised)\n",
    "    term1 = alpha*tf.reduce_sum(tf.square(pred_y-centroids[r]))\n",
    "    term1_1 = tf.cast(term1, tf.float32)\n",
    "    l2_norm = tf.reduce_sum(tf.square(tf.gather(pred_y,supervision) - np.array(sup_cent)), 1)\n",
    "    term2 = (1-alpha)*tf.reduce_sum(l2_norm)\n",
    "    l = tf.cast(l, tf.float32)\n",
    "    term2_1 = tf.cast(term2, tf.float32)\n",
    "    l2_norm_1 = tf.cast(l2_norm, tf.float32)\n",
    "    A = tf.add(l,l2_norm_1)\n",
    "    B = tf.reshape(tf.gather(pred_y,supervision),[tf.gather(pred_y,supervision).get_shape().as_list()[0],1,tf.gather(pred_y,supervision).get_shape().as_list()[1]])\n",
    "    B_1 = tf.cast(B, tf.float32)\n",
    "    C = tf.cast(Data.ix[supervised,\"ID\"].apply(lambda x:np.delete(centroids,label2id[x],0)).values[0][np.newaxis,:,:],tf.float32)\n",
    "    term3 = tf.reshape(A,[A.get_shape().as_list()[0],1])-tf.reduce_sum(tf.square(B_1-C), 2)\n",
    "    condition = tf.greater(term3,0)\n",
    "    term3_1 = tf.select(condition,term3,tf.zeros_like(term3))\n",
    "    term3_2 = tf.reduce_sum(term3_1)\n",
    "    term3_3 = tf.cast(term3_2, tf.float32)\n",
    "    return tf.add(tf.add(term1_1,term2_1),term3_3)"
   ]
  },
  {
   "cell_type": "code",
   "execution_count": 20,
   "metadata": {
    "collapsed": true,
    "deletable": true,
    "editable": true
   },
   "outputs": [],
   "source": [
    "model.compile(optimizer=adam, loss=_cost)"
   ]
  },
  {
   "cell_type": "markdown",
   "metadata": {
    "deletable": true,
    "editable": true
   },
   "source": [
    "# 4. 学習"
   ]
  },
  {
   "cell_type": "code",
   "execution_count": 23,
   "metadata": {
    "collapsed": true,
    "deletable": true,
    "editable": true
   },
   "outputs": [],
   "source": [
    "def train(train_X,train_y,supervised):\n",
    "    global centroids,clusterID,Sup,model,epoch,r,sup_pred,label2id,delta,sup_cent,alpha,l\n",
    "    #1-1.k-NNでラベリング、r（クラスタリング結果）更新\n",
    "    pred_y = model.predict(train_X)\n",
    "    neigh = KNeighborsClassifier(n_neighbors=1)\n",
    "    neigh.fit(centroids, clusterID)\n",
    "    #予測されるtrain_XのクラスタID\n",
    "    r = neigh.predict(pred_y)\n",
    "\n",
    "    #1-2.ハンガリアンアルゴリズムでラベル付きデータとセントロイドを紐付ける\n",
    "    sup_pred = pred_y[supervised]\n",
    "    hg = pd.concat([Sup,pd.DataFrame(sup_pred)],axis=1).groupby(\"label\")[np.arange(output_dim)].mean()\n",
    "    hglabel = hg.index\n",
    "    hgx = hg.values\n",
    "    HgMatrix = np.linalg.norm(hgx[:,np.newaxis,:]-centroids[np.newaxis,:,:],axis=2)\n",
    "    label2id = {hglabel[i]:np.argmin(HgMatrix[i]) for i in range(len(supervised))}\n",
    "    Sup[\"ID\"] = Sup[\"label\"].apply(lambda x:label2id[x])\n",
    "    \n",
    "    l=1.0\n",
    "    l2_norm = np.sum(np.square(sup_pred - np.array(sup_cent)), axis = 1)\n",
    "    delta = (l+l2_norm)[:,np.newaxis]-np.sum(np.square(\n",
    "            sup_pred[:,np.newaxis,:]-centroids[np.newaxis,:,:]),axis=2)\n",
    "    delta[delta>0] = 1\n",
    "    delta[delta<=0] = 0\n",
    "\n",
    "    #2.centroidsをrを用いて更新    \n",
    "    for k in range(len(centroids)):\n",
    "        sum1 = np.sum(alpha*len(np.where(r==k)[0]))\n",
    "        sum2 = np.sum(alpha*pred_y[r==k])\n",
    "        delta_k = delta.copy()\n",
    "        delta_k[:,np.where(np.arange(len(centroids))!=k)] *= -1\n",
    "        id_of_gn = np.array(map(lambda x:label2id[x],Sup[\"label\"].values))\n",
    "        delta_k[np.arange(len(supervised)),id_of_gn] = 0\n",
    "        w = np.sum(delta_k,axis=1)\n",
    "        w[np.where(id_of_gn == k)] += 1\n",
    "        w*=(1-alpha)\n",
    "        sum3 = np.sum(w)\n",
    "        sum4 = np.sum(w[:,np.newaxis]*sup_pred)\n",
    "        centroids[k] = (sum2+sum4)/(sum1+sum3)\n",
    "\n",
    "    #3.NNのパラメータ更新\n",
    "    sup_cent = []\n",
    "    Data.ix[supervised,\"ID\"].apply(lambda x:sup_cent.append(list(centroids[label2id[x]])))\n",
    "    \n",
    "    model.fit(train_X, train_y, batch_size=batch_size, nb_epoch=nb_epoch, verbose=1)\n",
    "    \n",
    "    #以上1~3の繰り返し\n",
    "    return None"
   ]
  },
  {
   "cell_type": "code",
   "execution_count": 27,
   "metadata": {
    "collapsed": false,
    "deletable": true,
    "editable": true
   },
   "outputs": [
    {
     "name": "stdout",
     "output_type": "stream",
     "text": [
      "Epoch 1/1\n",
      "71986/71986 [==============================] - 31s - loss: 4865404.5000\n",
      "time: 202.310145855 [s]\n",
      "Epoch 1/1\n",
      "71986/71986 [==============================] - 40s - loss: 4854832.0000\n",
      "time: 194.633821011 [s]\n",
      "Epoch 1/1\n",
      "71986/71986 [==============================] - 41s - loss: 4850467.5000\n",
      "time: 206.153919935 [s]\n",
      "Epoch 1/1\n",
      "71986/71986 [==============================] - 40s - loss: 4844085.5000\n",
      "time: 200.651422977 [s]\n",
      "Epoch 1/1\n",
      "71986/71986 [==============================] - 33s - loss: 4835860.0000\n",
      "time: 200.98850584 [s]\n"
     ]
    }
   ],
   "source": [
    "before = model.predict(test_X[0][np.newaxis,:,:,:])\n",
    "n_epochs = 5\n",
    "for epoch in range(n_epochs):\n",
    "    start = time.time()\n",
    "    train(train_X,train_y,supervised)\n",
    "    end = time.time()\n",
    "    print \"time: \" + str(end - start)+\" [s]\"\n",
    "after = model.predict(test_X[0][np.newaxis,:,:,:])"
   ]
  },
  {
   "cell_type": "markdown",
   "metadata": {
    "collapsed": true,
    "deletable": true,
    "editable": true
   },
   "source": [
    "# 改善点(するとしたら)\n",
    "* 「商品名＋とは？」にどう対応するか\n",
    " * **ひとまずそのままやる**\n",
    "* Questionによる単語数の違いにどう対応するか\n",
    "* _tokenize -> 品詞ふやすor減らす\n",
    "* ミニバッチ学習できるようにする。"
   ]
  },
  {
   "cell_type": "markdown",
   "metadata": {
    "deletable": true,
    "editable": true
   },
   "source": [
    "# 参考\n",
    "* [Semi-supervised Clustering for Short Text via Deep Representation Learning (Wang et al., 2016)](https://arxiv.org/abs/1602.06797)\n",
    "* [[Python]強化学習(DQN)を実装しながらKerasに慣れる ー　loss関数のカスタマイズ](http://qiita.com/yukiB/items/0a3faa759ca5561e12f8#tips2-loss関数のカスタマイズ)\n",
    "* [TensorFlow: using a tensor to index another tensor](https://stackoverflow.com/questions/35842598/tensorflow-using-a-tensor-to-index-another-tensor)\n"
   ]
  }
 ],
 "metadata": {
  "kernelspec": {
   "display_name": "Python 3",
   "language": "python",
   "name": "python3"
  },
  "language_info": {
   "codemirror_mode": {
    "name": "ipython",
    "version": 3
   },
   "file_extension": ".py",
   "mimetype": "text/x-python",
   "name": "python",
   "nbconvert_exporter": "python",
   "pygments_lexer": "ipython3",
   "version": "3.4.3"
  }
 },
 "nbformat": 4,
 "nbformat_minor": 1
}
