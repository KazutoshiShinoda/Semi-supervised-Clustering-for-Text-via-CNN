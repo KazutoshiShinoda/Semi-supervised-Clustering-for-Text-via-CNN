{
 "cells": [
  {
   "cell_type": "code",
   "execution_count": 1,
   "metadata": {
    "collapsed": false
   },
   "outputs": [
    {
     "name": "stderr",
     "output_type": "stream",
     "text": [
      "Using TensorFlow backend.\n",
      "/Users/Pikachu/.pyenv/versions/2.7.9/lib/python2.7/site-packages/sklearn/cross_validation.py:44: DeprecationWarning: This module was deprecated in version 0.18 in favor of the model_selection module into which all the refactored classes and functions are moved. Also note that the interface of the new CV iterators are different from that of this module. This module will be removed in 0.20.\n",
      "  \"This module will be removed in 0.20.\", DeprecationWarning)\n"
     ]
    }
   ],
   "source": [
    "from keras.layers import Input, Dense, Embedding, merge, Convolution2D, MaxPooling2D, Dropout\n",
    "from sklearn.cross_validation import train_test_split\n",
    "from keras.layers.core import Reshape, Flatten\n",
    "from keras.callbacks import ModelCheckpoint\n",
    "from keras.optimizers import Adam\n",
    "from keras.models import Model\n",
    "import numpy as np"
   ]
  },
  {
   "cell_type": "code",
   "execution_count": 2,
   "metadata": {
    "collapsed": false
   },
   "outputs": [],
   "source": [
    "from gensim.models.word2vec import Word2Vec\n",
    "\n",
    "model_path=\"../input/word2vec.gensim.model\"\n",
    "model = Word2Vec.load(model_path)"
   ]
  },
  {
   "cell_type": "code",
   "execution_count": 3,
   "metadata": {
    "collapsed": false
   },
   "outputs": [
    {
     "name": "stdout",
     "output_type": "stream",
     "text": [
      "<type 'list'>\n",
      "<type 'numpy.ndarray'>\n",
      "(2,)\n"
     ]
    }
   ],
   "source": [
    "train_tokenized = np.array([[u\"大変\",u\"申し訳\",u\"ござる\",u\"ます\",u\"ん\"],\n",
    "                           [u\"誠に\",u\"ありがとう\",u\"ござる\",u\"ます\"]])\n",
    "\n",
    "print type(train_tokenized[0])\n",
    "print type(train_tokenized)\n",
    "print train_tokenized.shape\n",
    "train_distributed = np.array(map(lambda x: list(model.wv[x]), train_tokenized))\n",
    "train_y = [[1,0],[0,1]]"
   ]
  },
  {
   "cell_type": "code",
   "execution_count": 4,
   "metadata": {
    "collapsed": true
   },
   "outputs": [],
   "source": [
    "test_tokenized = np.array([[u\"誠に\",u\"申し訳\",u\"ござる\",u\"ます\",u\"ん\"],\n",
    "                           [u\"本当に\",u\"ありがとう\",u\"ござる\",u\"ます\"]])\n",
    "test_distributed = np.array(map(lambda x: list(model.wv[x]), test_tokenized))\n",
    "test_y = [[1,0],[0,1]]"
   ]
  },
  {
   "cell_type": "code",
   "execution_count": 5,
   "metadata": {
    "collapsed": false,
    "scrolled": true
   },
   "outputs": [
    {
     "name": "stdout",
     "output_type": "stream",
     "text": [
      "<type 'list'>\n",
      "<type 'numpy.ndarray'>\n",
      "(2,)\n",
      "50\n",
      "5\n"
     ]
    }
   ],
   "source": [
    "print type(test_distributed[0])\n",
    "print type(test_distributed)\n",
    "print test_distributed.shape\n",
    "print test_distributed[0][0].shape[0]\n",
    "print len(test_distributed[0])"
   ]
  },
  {
   "cell_type": "code",
   "execution_count": 6,
   "metadata": {
    "collapsed": false
   },
   "outputs": [],
   "source": [
    "from keras.preprocessing import sequence\n",
    "sequence_length = 8\n",
    "train_distributed = sequence.pad_sequences(train_distributed, maxlen=sequence_length, padding=\"post\", truncating=\"post\")\n",
    "test_distributed = sequence.pad_sequences(test_distributed, maxlen=sequence_length, padding=\"post\", truncating=\"post\")"
   ]
  },
  {
   "cell_type": "code",
   "execution_count": 7,
   "metadata": {
    "collapsed": false
   },
   "outputs": [
    {
     "name": "stdout",
     "output_type": "stream",
     "text": [
      "(2, 8, 50, 1)\n",
      "(2, 8, 50, 1)\n"
     ]
    }
   ],
   "source": [
    "train_distributed = train_distributed[:,:,:,np.newaxis]\n",
    "test_distributed = test_distributed[:,:,:,np.newaxis]\n",
    "print train_distributed.shape\n",
    "print test_distributed.shape"
   ]
  },
  {
   "cell_type": "code",
   "execution_count": 8,
   "metadata": {
    "collapsed": false
   },
   "outputs": [],
   "source": [
    "filter_sizes = [2,3,4]\n",
    "#分散表現の次元\n",
    "vector_length = test_distributed[0][0].shape[0]\n",
    "#sequence_length = len(test_distributed[0])\n",
    "num_filters = 512\n",
    "nb_epoch = 100\n",
    "batch_size = 30"
   ]
  },
  {
   "cell_type": "code",
   "execution_count": 9,
   "metadata": {
    "collapsed": false
   },
   "outputs": [],
   "source": [
    "inputs = Input(shape=(sequence_length,vector_length,1), dtype='float32')\n",
    "#embedding = Embedding(output_dim=embedding_dim, input_dim=vocabulary_size, input_length=sequence_length)(inputs)\n",
    "#reshape = Reshape((sequence_length,embedding_dim,1))(embedding)\n",
    "\n",
    "conv_0 = Convolution2D(num_filters, filter_sizes[0], vector_length, border_mode='valid', init='normal', activation='relu', dim_ordering='tf')(inputs)\n",
    "conv_1 = Convolution2D(num_filters, filter_sizes[1], vector_length, border_mode='valid', init='normal', activation='relu', dim_ordering='tf')(inputs)\n",
    "conv_2 = Convolution2D(num_filters, filter_sizes[2], vector_length, border_mode='valid', init='normal', activation='relu', dim_ordering='tf')(inputs)\n",
    "\n",
    "maxpool_0 = MaxPooling2D(pool_size=(sequence_length - filter_sizes[0] + 1, 1), strides=(1,1), border_mode='valid', dim_ordering='tf')(conv_0)\n",
    "maxpool_1 = MaxPooling2D(pool_size=(sequence_length - filter_sizes[1] + 1, 1), strides=(1,1), border_mode='valid', dim_ordering='tf')(conv_1)\n",
    "maxpool_2 = MaxPooling2D(pool_size=(sequence_length - filter_sizes[2] + 1, 1), strides=(1,1), border_mode='valid', dim_ordering='tf')(conv_2)\n",
    "\n",
    "merged_tensor = merge([maxpool_0, maxpool_1, maxpool_2], mode='concat', concat_axis=1)\n",
    "flatten = Flatten()(merged_tensor)"
   ]
  },
  {
   "cell_type": "code",
   "execution_count": 10,
   "metadata": {
    "collapsed": false
   },
   "outputs": [
    {
     "name": "stdout",
     "output_type": "stream",
     "text": [
      "Train on 2 samples, validate on 2 samples\n",
      "Epoch 1/100\n",
      "Epoch 00000: val_acc improved from -inf to 0.50000, saving model to weights.000-0.5000.hdf5\n",
      "2/2 [==============================] - 0s - loss: 0.6931 - acc: 0.5000 - val_loss: 0.6931 - val_acc: 0.5000\n",
      "Epoch 2/100\n",
      "Epoch 00001: val_acc did not improve\n",
      "2/2 [==============================] - 0s - loss: 0.6931 - acc: 0.5000 - val_loss: 0.6931 - val_acc: 0.5000\n",
      "Epoch 3/100\n",
      "Epoch 00002: val_acc did not improve\n",
      "2/2 [==============================] - 0s - loss: 0.6931 - acc: 0.5000 - val_loss: 0.6931 - val_acc: 0.5000\n",
      "Epoch 4/100\n",
      "Epoch 00003: val_acc did not improve\n",
      "2/2 [==============================] - 0s - loss: 0.6931 - acc: 0.5000 - val_loss: 0.6931 - val_acc: 0.5000\n",
      "Epoch 5/100\n",
      "Epoch 00004: val_acc did not improve\n",
      "2/2 [==============================] - 0s - loss: 0.6931 - acc: 0.5000 - val_loss: 0.6931 - val_acc: 0.5000\n",
      "Epoch 6/100\n",
      "Epoch 00005: val_acc did not improve\n",
      "2/2 [==============================] - 0s - loss: 0.6931 - acc: 0.5000 - val_loss: 0.6931 - val_acc: 0.5000\n",
      "Epoch 7/100\n",
      "Epoch 00006: val_acc did not improve\n",
      "2/2 [==============================] - 0s - loss: 0.6931 - acc: 0.5000 - val_loss: 0.6931 - val_acc: 0.5000\n",
      "Epoch 8/100\n",
      "Epoch 00007: val_acc did not improve\n",
      "2/2 [==============================] - 0s - loss: 0.6931 - acc: 0.5000 - val_loss: 0.6931 - val_acc: 0.5000\n",
      "Epoch 9/100\n",
      "Epoch 00008: val_acc did not improve\n",
      "2/2 [==============================] - 0s - loss: 0.6931 - acc: 0.5000 - val_loss: 0.6931 - val_acc: 0.5000\n",
      "Epoch 10/100\n",
      "Epoch 00009: val_acc did not improve\n",
      "2/2 [==============================] - 0s - loss: 0.6931 - acc: 0.5000 - val_loss: 0.6931 - val_acc: 0.5000\n",
      "Epoch 11/100\n",
      "Epoch 00010: val_acc did not improve\n",
      "2/2 [==============================] - 0s - loss: 0.6931 - acc: 0.5000 - val_loss: 0.6931 - val_acc: 0.5000\n",
      "Epoch 12/100\n",
      "Epoch 00011: val_acc did not improve\n",
      "2/2 [==============================] - 0s - loss: 0.6931 - acc: 0.5000 - val_loss: 0.6931 - val_acc: 0.5000\n",
      "Epoch 13/100\n",
      "Epoch 00012: val_acc did not improve\n",
      "2/2 [==============================] - 0s - loss: 0.6931 - acc: 0.5000 - val_loss: 0.6931 - val_acc: 0.5000\n",
      "Epoch 14/100\n",
      "Epoch 00013: val_acc did not improve\n",
      "2/2 [==============================] - 0s - loss: 0.6931 - acc: 0.5000 - val_loss: 0.6931 - val_acc: 0.5000\n",
      "Epoch 15/100\n",
      "Epoch 00014: val_acc did not improve\n",
      "2/2 [==============================] - 0s - loss: 0.6931 - acc: 0.5000 - val_loss: 0.6931 - val_acc: 0.5000\n",
      "Epoch 16/100\n",
      "Epoch 00015: val_acc did not improve\n",
      "2/2 [==============================] - 0s - loss: 0.6931 - acc: 0.5000 - val_loss: 0.6931 - val_acc: 0.5000\n",
      "Epoch 17/100\n",
      "Epoch 00016: val_acc did not improve\n",
      "2/2 [==============================] - 0s - loss: 0.6931 - acc: 0.5000 - val_loss: 0.6931 - val_acc: 0.5000\n",
      "Epoch 18/100\n",
      "Epoch 00017: val_acc did not improve\n",
      "2/2 [==============================] - 0s - loss: 0.6931 - acc: 0.5000 - val_loss: 0.6931 - val_acc: 0.5000\n",
      "Epoch 19/100\n",
      "Epoch 00018: val_acc did not improve\n",
      "2/2 [==============================] - 0s - loss: 0.6931 - acc: 0.5000 - val_loss: 0.6931 - val_acc: 0.5000\n",
      "Epoch 20/100\n",
      "Epoch 00019: val_acc did not improve\n",
      "2/2 [==============================] - 0s - loss: 0.6931 - acc: 0.5000 - val_loss: 0.6931 - val_acc: 0.5000\n",
      "Epoch 21/100\n",
      "Epoch 00020: val_acc did not improve\n",
      "2/2 [==============================] - 0s - loss: 0.6931 - acc: 0.5000 - val_loss: 0.6931 - val_acc: 0.5000\n",
      "Epoch 22/100\n",
      "Epoch 00021: val_acc did not improve\n",
      "2/2 [==============================] - 0s - loss: 0.6931 - acc: 0.5000 - val_loss: 0.6931 - val_acc: 0.5000\n",
      "Epoch 23/100\n",
      "Epoch 00022: val_acc did not improve\n",
      "2/2 [==============================] - 0s - loss: 0.6931 - acc: 0.5000 - val_loss: 0.6931 - val_acc: 0.5000\n",
      "Epoch 24/100\n",
      "Epoch 00023: val_acc did not improve\n",
      "2/2 [==============================] - 0s - loss: 0.6931 - acc: 0.5000 - val_loss: 0.6931 - val_acc: 0.5000\n",
      "Epoch 25/100\n",
      "Epoch 00024: val_acc did not improve\n",
      "2/2 [==============================] - 0s - loss: 0.6931 - acc: 0.5000 - val_loss: 0.6931 - val_acc: 0.5000\n",
      "Epoch 26/100\n",
      "Epoch 00025: val_acc did not improve\n",
      "2/2 [==============================] - 0s - loss: 0.6931 - acc: 0.5000 - val_loss: 0.6931 - val_acc: 0.5000\n",
      "Epoch 27/100\n",
      "Epoch 00026: val_acc did not improve\n",
      "2/2 [==============================] - 0s - loss: 0.6931 - acc: 0.5000 - val_loss: 0.6931 - val_acc: 0.5000\n",
      "Epoch 28/100\n",
      "Epoch 00027: val_acc did not improve\n",
      "2/2 [==============================] - 0s - loss: 0.6931 - acc: 0.5000 - val_loss: 0.6931 - val_acc: 0.5000\n",
      "Epoch 29/100\n",
      "Epoch 00028: val_acc did not improve\n",
      "2/2 [==============================] - 0s - loss: 0.6931 - acc: 0.5000 - val_loss: 0.6931 - val_acc: 0.5000\n",
      "Epoch 30/100\n",
      "Epoch 00029: val_acc did not improve\n",
      "2/2 [==============================] - 0s - loss: 0.6931 - acc: 0.5000 - val_loss: 0.6931 - val_acc: 0.5000\n",
      "Epoch 31/100\n",
      "Epoch 00030: val_acc did not improve\n",
      "2/2 [==============================] - 0s - loss: 0.6931 - acc: 0.5000 - val_loss: 0.6931 - val_acc: 0.5000\n",
      "Epoch 32/100\n",
      "Epoch 00031: val_acc did not improve\n",
      "2/2 [==============================] - 0s - loss: 0.6931 - acc: 0.5000 - val_loss: 0.6931 - val_acc: 0.5000\n",
      "Epoch 33/100\n",
      "Epoch 00032: val_acc did not improve\n",
      "2/2 [==============================] - 0s - loss: 0.6931 - acc: 0.5000 - val_loss: 0.6931 - val_acc: 0.5000\n",
      "Epoch 34/100\n",
      "Epoch 00033: val_acc did not improve\n",
      "2/2 [==============================] - 0s - loss: 0.6931 - acc: 0.5000 - val_loss: 0.6931 - val_acc: 0.5000\n",
      "Epoch 35/100\n",
      "Epoch 00034: val_acc did not improve\n",
      "2/2 [==============================] - 0s - loss: 0.6931 - acc: 0.5000 - val_loss: 0.6931 - val_acc: 0.5000\n",
      "Epoch 36/100\n",
      "Epoch 00035: val_acc did not improve\n",
      "2/2 [==============================] - 0s - loss: 0.6931 - acc: 0.5000 - val_loss: 0.6931 - val_acc: 0.5000\n",
      "Epoch 37/100\n",
      "Epoch 00036: val_acc did not improve\n",
      "2/2 [==============================] - 0s - loss: 0.6931 - acc: 0.5000 - val_loss: 0.6931 - val_acc: 0.5000\n",
      "Epoch 38/100\n",
      "Epoch 00037: val_acc did not improve\n",
      "2/2 [==============================] - 0s - loss: 0.6931 - acc: 0.5000 - val_loss: 0.6931 - val_acc: 0.5000\n",
      "Epoch 39/100\n",
      "Epoch 00038: val_acc did not improve\n",
      "2/2 [==============================] - 0s - loss: 0.6931 - acc: 0.5000 - val_loss: 0.6931 - val_acc: 0.5000\n",
      "Epoch 40/100\n",
      "Epoch 00039: val_acc did not improve\n",
      "2/2 [==============================] - 0s - loss: 0.6931 - acc: 0.5000 - val_loss: 0.6931 - val_acc: 0.5000\n",
      "Epoch 41/100\n",
      "Epoch 00040: val_acc did not improve\n",
      "2/2 [==============================] - 0s - loss: 0.6931 - acc: 0.5000 - val_loss: 0.6931 - val_acc: 0.5000\n",
      "Epoch 42/100\n",
      "Epoch 00041: val_acc did not improve\n",
      "2/2 [==============================] - 0s - loss: 0.6931 - acc: 0.5000 - val_loss: 0.6931 - val_acc: 0.5000\n",
      "Epoch 43/100\n",
      "Epoch 00042: val_acc did not improve\n",
      "2/2 [==============================] - 0s - loss: 0.6931 - acc: 0.5000 - val_loss: 0.6931 - val_acc: 0.5000\n",
      "Epoch 44/100\n",
      "Epoch 00043: val_acc did not improve\n",
      "2/2 [==============================] - 0s - loss: 0.6931 - acc: 0.5000 - val_loss: 0.6931 - val_acc: 0.5000\n",
      "Epoch 45/100\n",
      "Epoch 00044: val_acc did not improve\n",
      "2/2 [==============================] - 0s - loss: 0.6931 - acc: 0.5000 - val_loss: 0.6931 - val_acc: 0.5000\n",
      "Epoch 46/100\n",
      "Epoch 00045: val_acc did not improve\n",
      "2/2 [==============================] - 0s - loss: 0.6931 - acc: 0.5000 - val_loss: 0.6931 - val_acc: 0.5000\n",
      "Epoch 47/100\n",
      "Epoch 00046: val_acc did not improve\n",
      "2/2 [==============================] - 0s - loss: 0.6931 - acc: 0.5000 - val_loss: 0.6931 - val_acc: 0.5000\n",
      "Epoch 48/100\n",
      "Epoch 00047: val_acc did not improve\n",
      "2/2 [==============================] - 0s - loss: 0.6931 - acc: 0.5000 - val_loss: 0.6931 - val_acc: 0.5000\n",
      "Epoch 49/100\n",
      "Epoch 00048: val_acc did not improve\n",
      "2/2 [==============================] - 0s - loss: 0.6931 - acc: 0.5000 - val_loss: 0.6931 - val_acc: 0.5000\n",
      "Epoch 50/100\n",
      "Epoch 00049: val_acc did not improve\n",
      "2/2 [==============================] - 0s - loss: 0.6931 - acc: 0.5000 - val_loss: 0.6931 - val_acc: 0.5000\n",
      "Epoch 51/100\n",
      "Epoch 00050: val_acc did not improve\n",
      "2/2 [==============================] - 0s - loss: 0.6931 - acc: 0.5000 - val_loss: 0.6931 - val_acc: 0.5000\n",
      "Epoch 52/100\n",
      "Epoch 00051: val_acc did not improve\n",
      "2/2 [==============================] - 0s - loss: 0.6931 - acc: 0.5000 - val_loss: 0.6931 - val_acc: 0.5000\n",
      "Epoch 53/100\n",
      "Epoch 00052: val_acc did not improve\n",
      "2/2 [==============================] - 0s - loss: 0.6931 - acc: 0.5000 - val_loss: 0.6931 - val_acc: 0.5000\n",
      "Epoch 54/100\n",
      "Epoch 00053: val_acc did not improve\n",
      "2/2 [==============================] - 0s - loss: 0.6931 - acc: 0.5000 - val_loss: 0.6931 - val_acc: 0.5000\n",
      "Epoch 55/100\n",
      "Epoch 00054: val_acc did not improve\n",
      "2/2 [==============================] - 0s - loss: 0.6931 - acc: 0.5000 - val_loss: 0.6931 - val_acc: 0.5000\n",
      "Epoch 56/100\n",
      "Epoch 00055: val_acc did not improve\n",
      "2/2 [==============================] - 0s - loss: 0.6931 - acc: 0.5000 - val_loss: 0.6931 - val_acc: 0.5000\n",
      "Epoch 57/100\n",
      "Epoch 00056: val_acc did not improve\n",
      "2/2 [==============================] - 0s - loss: 0.6931 - acc: 0.5000 - val_loss: 0.6931 - val_acc: 0.5000\n",
      "Epoch 58/100\n",
      "Epoch 00057: val_acc did not improve\n",
      "2/2 [==============================] - 0s - loss: 0.6931 - acc: 0.5000 - val_loss: 0.6931 - val_acc: 0.5000\n",
      "Epoch 59/100\n",
      "Epoch 00058: val_acc did not improve\n",
      "2/2 [==============================] - 0s - loss: 0.6931 - acc: 0.5000 - val_loss: 0.6931 - val_acc: 0.5000\n",
      "Epoch 60/100\n",
      "Epoch 00059: val_acc did not improve\n",
      "2/2 [==============================] - 0s - loss: 0.6931 - acc: 0.5000 - val_loss: 0.6931 - val_acc: 0.5000\n",
      "Epoch 61/100\n",
      "Epoch 00060: val_acc did not improve\n",
      "2/2 [==============================] - 0s - loss: 0.6931 - acc: 0.5000 - val_loss: 0.6931 - val_acc: 0.5000\n",
      "Epoch 62/100\n",
      "Epoch 00061: val_acc did not improve\n",
      "2/2 [==============================] - 0s - loss: 0.6931 - acc: 0.5000 - val_loss: 0.6931 - val_acc: 0.5000\n",
      "Epoch 63/100\n",
      "Epoch 00062: val_acc did not improve\n",
      "2/2 [==============================] - 0s - loss: 0.6931 - acc: 0.5000 - val_loss: 0.6931 - val_acc: 0.5000\n",
      "Epoch 64/100\n",
      "Epoch 00063: val_acc did not improve\n",
      "2/2 [==============================] - 0s - loss: 0.6931 - acc: 0.5000 - val_loss: 0.6931 - val_acc: 0.5000\n",
      "Epoch 65/100\n",
      "Epoch 00064: val_acc did not improve\n",
      "2/2 [==============================] - 0s - loss: 0.6931 - acc: 0.5000 - val_loss: 0.6931 - val_acc: 0.5000\n",
      "Epoch 66/100\n",
      "Epoch 00065: val_acc did not improve\n",
      "2/2 [==============================] - 0s - loss: 0.6931 - acc: 0.5000 - val_loss: 0.6931 - val_acc: 0.5000\n",
      "Epoch 67/100\n",
      "Epoch 00066: val_acc did not improve\n",
      "2/2 [==============================] - 0s - loss: 0.6931 - acc: 0.5000 - val_loss: 0.6931 - val_acc: 0.5000\n",
      "Epoch 68/100\n",
      "Epoch 00067: val_acc did not improve\n",
      "2/2 [==============================] - 0s - loss: 0.6931 - acc: 0.5000 - val_loss: 0.6931 - val_acc: 0.5000\n",
      "Epoch 69/100\n",
      "Epoch 00068: val_acc did not improve\n",
      "2/2 [==============================] - 0s - loss: 0.6931 - acc: 0.5000 - val_loss: 0.6931 - val_acc: 0.5000\n",
      "Epoch 70/100\n",
      "Epoch 00069: val_acc did not improve\n",
      "2/2 [==============================] - 0s - loss: 0.6931 - acc: 0.5000 - val_loss: 0.6931 - val_acc: 0.5000\n",
      "Epoch 71/100\n",
      "Epoch 00070: val_acc did not improve\n",
      "2/2 [==============================] - 0s - loss: 0.6931 - acc: 0.5000 - val_loss: 0.6931 - val_acc: 0.5000\n",
      "Epoch 72/100\n",
      "Epoch 00071: val_acc did not improve\n",
      "2/2 [==============================] - 0s - loss: 0.6931 - acc: 0.5000 - val_loss: 0.6931 - val_acc: 0.5000\n",
      "Epoch 73/100\n",
      "Epoch 00072: val_acc did not improve\n",
      "2/2 [==============================] - 0s - loss: 0.6931 - acc: 0.5000 - val_loss: 0.6931 - val_acc: 0.5000\n",
      "Epoch 74/100\n",
      "Epoch 00073: val_acc did not improve\n",
      "2/2 [==============================] - 0s - loss: 0.6931 - acc: 0.5000 - val_loss: 0.6931 - val_acc: 0.5000\n",
      "Epoch 75/100\n",
      "Epoch 00074: val_acc did not improve\n",
      "2/2 [==============================] - 0s - loss: 0.6931 - acc: 0.5000 - val_loss: 0.6931 - val_acc: 0.5000\n",
      "Epoch 76/100\n",
      "Epoch 00075: val_acc did not improve\n",
      "2/2 [==============================] - 0s - loss: 0.6931 - acc: 0.5000 - val_loss: 0.6931 - val_acc: 0.5000\n",
      "Epoch 77/100\n",
      "Epoch 00076: val_acc did not improve\n",
      "2/2 [==============================] - 0s - loss: 0.6931 - acc: 0.5000 - val_loss: 0.6931 - val_acc: 0.5000\n",
      "Epoch 78/100\n",
      "Epoch 00077: val_acc did not improve\n",
      "2/2 [==============================] - 0s - loss: 0.6931 - acc: 0.5000 - val_loss: 0.6931 - val_acc: 0.5000\n",
      "Epoch 79/100\n",
      "Epoch 00078: val_acc did not improve\n",
      "2/2 [==============================] - 0s - loss: 0.6931 - acc: 0.5000 - val_loss: 0.6931 - val_acc: 0.5000\n",
      "Epoch 80/100\n",
      "Epoch 00079: val_acc did not improve\n",
      "2/2 [==============================] - 0s - loss: 0.6931 - acc: 0.5000 - val_loss: 0.6931 - val_acc: 0.5000\n",
      "Epoch 81/100\n",
      "Epoch 00080: val_acc did not improve\n",
      "2/2 [==============================] - 0s - loss: 0.6931 - acc: 0.5000 - val_loss: 0.6931 - val_acc: 0.5000\n",
      "Epoch 82/100\n",
      "Epoch 00081: val_acc did not improve\n",
      "2/2 [==============================] - 0s - loss: 0.6931 - acc: 0.5000 - val_loss: 0.6931 - val_acc: 0.5000\n",
      "Epoch 83/100\n",
      "Epoch 00082: val_acc did not improve\n",
      "2/2 [==============================] - 0s - loss: 0.6931 - acc: 0.5000 - val_loss: 0.6931 - val_acc: 0.5000\n",
      "Epoch 84/100\n",
      "Epoch 00083: val_acc did not improve\n",
      "2/2 [==============================] - 0s - loss: 0.6931 - acc: 0.5000 - val_loss: 0.6931 - val_acc: 0.5000\n",
      "Epoch 85/100\n",
      "Epoch 00084: val_acc did not improve\n",
      "2/2 [==============================] - 0s - loss: 0.6931 - acc: 0.5000 - val_loss: 0.6931 - val_acc: 0.5000\n",
      "Epoch 86/100\n",
      "Epoch 00085: val_acc did not improve\n",
      "2/2 [==============================] - 0s - loss: 0.6931 - acc: 0.5000 - val_loss: 0.6931 - val_acc: 0.5000\n",
      "Epoch 87/100\n",
      "Epoch 00086: val_acc did not improve\n",
      "2/2 [==============================] - 0s - loss: 0.6931 - acc: 0.5000 - val_loss: 0.6931 - val_acc: 0.5000\n",
      "Epoch 88/100\n",
      "Epoch 00087: val_acc did not improve\n",
      "2/2 [==============================] - 0s - loss: 0.6931 - acc: 0.5000 - val_loss: 0.6931 - val_acc: 0.5000\n",
      "Epoch 89/100\n",
      "Epoch 00088: val_acc did not improve\n",
      "2/2 [==============================] - 0s - loss: 0.6931 - acc: 0.5000 - val_loss: 0.6931 - val_acc: 0.5000\n",
      "Epoch 90/100\n",
      "Epoch 00089: val_acc did not improve\n",
      "2/2 [==============================] - 0s - loss: 0.6931 - acc: 0.5000 - val_loss: 0.6931 - val_acc: 0.5000\n",
      "Epoch 91/100\n",
      "Epoch 00090: val_acc did not improve\n",
      "2/2 [==============================] - 0s - loss: 0.6931 - acc: 0.5000 - val_loss: 0.6931 - val_acc: 0.5000\n",
      "Epoch 92/100\n",
      "Epoch 00091: val_acc did not improve\n",
      "2/2 [==============================] - 0s - loss: 0.6931 - acc: 0.5000 - val_loss: 0.6931 - val_acc: 0.5000\n",
      "Epoch 93/100\n",
      "Epoch 00092: val_acc did not improve\n",
      "2/2 [==============================] - 0s - loss: 0.6931 - acc: 0.5000 - val_loss: 0.6931 - val_acc: 0.5000\n",
      "Epoch 94/100\n",
      "Epoch 00093: val_acc did not improve\n",
      "2/2 [==============================] - 0s - loss: 0.6931 - acc: 0.5000 - val_loss: 0.6931 - val_acc: 0.5000\n",
      "Epoch 95/100\n",
      "Epoch 00094: val_acc did not improve\n",
      "2/2 [==============================] - 0s - loss: 0.6931 - acc: 0.5000 - val_loss: 0.6931 - val_acc: 0.5000\n",
      "Epoch 96/100\n",
      "Epoch 00095: val_acc did not improve\n",
      "2/2 [==============================] - 0s - loss: 0.6931 - acc: 0.5000 - val_loss: 0.6931 - val_acc: 0.5000\n",
      "Epoch 97/100\n",
      "Epoch 00096: val_acc did not improve\n",
      "2/2 [==============================] - 0s - loss: 0.6931 - acc: 0.5000 - val_loss: 0.6931 - val_acc: 0.5000\n",
      "Epoch 98/100\n",
      "Epoch 00097: val_acc did not improve\n",
      "2/2 [==============================] - 0s - loss: 0.6931 - acc: 0.5000 - val_loss: 0.6931 - val_acc: 0.5000\n",
      "Epoch 99/100\n",
      "Epoch 00098: val_acc did not improve\n",
      "2/2 [==============================] - 0s - loss: 0.6931 - acc: 0.5000 - val_loss: 0.6931 - val_acc: 0.5000\n",
      "Epoch 100/100\n",
      "Epoch 00099: val_acc did not improve\n",
      "2/2 [==============================] - 0s - loss: 0.6931 - acc: 0.5000 - val_loss: 0.6931 - val_acc: 0.5000\n"
     ]
    },
    {
     "data": {
      "text/plain": [
       "<keras.callbacks.History at 0x1221d3ad0>"
      ]
     },
     "execution_count": 10,
     "metadata": {},
     "output_type": "execute_result"
    }
   ],
   "source": [
    "output = Dense(output_dim=2, activation='softmax')(flatten)\n",
    "model = Model(input=inputs, output=output)\n",
    "\n",
    "checkpoint = ModelCheckpoint('weights.{epoch:03d}-{val_acc:.4f}.hdf5', monitor='val_acc', verbose=1, save_best_only=True, mode='auto')\n",
    "adam = Adam(lr=1e-4, beta_1=0.9, beta_2=0.999, epsilon=1e-08)\n",
    "\n",
    "model.compile(optimizer=adam, loss='binary_crossentropy', metrics=['accuracy'])\n",
    "model.fit(train_distributed, train_y, batch_size=batch_size, nb_epoch=nb_epoch, verbose=1, callbacks=[checkpoint], validation_data=(test_distributed, test_y))"
   ]
  },
  {
   "cell_type": "code",
   "execution_count": 11,
   "metadata": {
    "collapsed": false
   },
   "outputs": [
    {
     "data": {
      "text/plain": [
       "array([[ 0.5,  0.5],\n",
       "       [ 0.5,  0.5]], dtype=float32)"
      ]
     },
     "execution_count": 11,
     "metadata": {},
     "output_type": "execute_result"
    }
   ],
   "source": [
    "model.predict(test_distributed)"
   ]
  }
 ],
 "metadata": {
  "kernelspec": {
   "display_name": "Python 2",
   "language": "python",
   "name": "python2"
  },
  "language_info": {
   "codemirror_mode": {
    "name": "ipython",
    "version": 2
   },
   "file_extension": ".py",
   "mimetype": "text/x-python",
   "name": "python",
   "nbconvert_exporter": "python",
   "pygments_lexer": "ipython2",
   "version": "2.7.9"
  }
 },
 "nbformat": 4,
 "nbformat_minor": 1
}
